{
  "nbformat": 4,
  "nbformat_minor": 0,
  "metadata": {
    "kernelspec": {
      "display_name": "Python 3",
      "name": "python3"
    },
    "language_info": {
      "name": "python"
    },
    "colab": {
      "name": "a2.ipynb",
      "provenance": [],
      "include_colab_link": true
    }
  },
  "cells": [
    {
      "cell_type": "markdown",
      "metadata": {
        "id": "view-in-github",
        "colab_type": "text"
      },
      "source": [
        "<a href=\"https://colab.research.google.com/github/quant-icma/pqf-jiang/blob/main/assignments/a2.ipynb\" target=\"_parent\"><img src=\"https://colab.research.google.com/assets/colab-badge.svg\" alt=\"Open In Colab\"/></a>"
      ]
    },
    {
      "cell_type": "markdown",
      "metadata": {
        "id": "9icb9PXHXdRD"
      },
      "source": [
        "# Assignment 2\n",
        "\n",
        "Complete the code snippets in a colab notebook. \n",
        "Download the notebook file and submit in Blackboard."
      ]
    },
    {
      "cell_type": "code",
      "metadata": {
        "id": "rKHxQnHLXdRF"
      },
      "source": [
        "import numpy as np"
      ],
      "execution_count": 33,
      "outputs": []
    },
    {
      "cell_type": "code",
      "metadata": {
        "id": "2wWH0zpLXdRG"
      },
      "source": [
        "class Call:\n",
        "    \n",
        "    def __init__(self, strike):\n",
        "        self.strike = strike\n",
        "\n",
        "    def __call__(self, spot):\n",
        "        return np.maximum(spot - self.strike, 0.)"
      ],
      "execution_count": 34,
      "outputs": []
    },
    {
      "cell_type": "code",
      "metadata": {
        "id": "nx-PSc_9XdRG"
      },
      "source": [
        "class VanillaOption:\n",
        "    def __init__(self, maturity, payoff):\n",
        "      self.maturity = maturity\n",
        "      self.payoff = payoff\n",
        "\n",
        "    # Implement a vanilla option class\n",
        "    # The class with have no methods apart from the constructor\n",
        "    # when you are done delete the 'pass' statement\n",
        "    \n",
        "\n",
        "    # The constructor will initialize two attributes:\n",
        "    #  - maturity\n",
        "    #  - payoff object\n",
        "\n",
        "    #pass    "
      ],
      "execution_count": 35,
      "outputs": []
    },
    {
      "cell_type": "code",
      "metadata": {
        "id": "vVZ1TgfdXdRG"
      },
      "source": [
        "class BlackScholesProcess:\n",
        "    def __init__(self, spot, rate, vol):\n",
        "      self.spot = spot\n",
        "      self.rate = rate\n",
        "      self.vol = vol\n",
        "\n",
        "    def evolve (self, time, norms):\n",
        "      S_T = self.spot * np.exp( (self.rate-0.5*self.vol**2)*time + self.vol*np.sqrt(time)*norms)\n",
        "      return S_T\n",
        "    # Implement the stochastic process class\n",
        "    # The class with have:\n",
        "    #   - a constructor\n",
        "    #   - an evolve method\n",
        "    # when you are done delete the 'pass' statement\n",
        "\n",
        "    # The constructor will initialize 3 attributes:\n",
        "    #    - spot: initial spot price\n",
        "    #    - rate: constant interest rate\n",
        "    #    - vol: constant vol\n",
        "    \n",
        "\n",
        "    # The 'evolve' method will take 2 arguments:\n",
        "    #   - time: the time horizon to simulate the process to\n",
        "    #   - norms: the sampled standard normal variables\n",
        "    # 'evolve' will return the simulate paths of the underlying using \n",
        "    #  the solution of the Black-Scholes stochastic differential equation\n",
        "\n",
        "    #pass\n",
        "        "
      ],
      "execution_count": 36,
      "outputs": []
    },
    {
      "cell_type": "code",
      "metadata": {
        "id": "CMIbvNOUXdRH"
      },
      "source": [
        "class FixedRateYieldCurve:\n",
        "    def __init__ (self, rate):\n",
        "      self.rate = rate \n",
        "\n",
        "    def discount (self, maturity):\n",
        "        return np.exp(-self.rate*maturity)\n",
        "    # Implement the stochastic process class\n",
        "    # The class with have:\n",
        "    #   - a constructor\n",
        "    #   - a discount method\n",
        "    # when you are done delete the 'pass' statement\n",
        "\n",
        "    # The constructor will initialize 1 attribute:\n",
        "    #    - rate: constant interest rate\n",
        "      \n",
        "\n",
        "    # The 'discount' method will take 1 argument:\n",
        "    #   - maturity: the maturity it will compute the discount factor for\n",
        "    # 'discount' will return the discount factor\n",
        "\n",
        "    #pass"
      ],
      "execution_count": 17,
      "outputs": []
    },
    {
      "cell_type": "markdown",
      "metadata": {
        "id": "HUCt8sHMXdRH"
      },
      "source": [
        "Here is a function that can use your classes:"
      ]
    },
    {
      "cell_type": "code",
      "metadata": {
        "id": "e34p94UgXdRI"
      },
      "source": [
        "def mc_price_european(process, option, yield_curve, n_paths):\n",
        "    std_norms = np.random.normal(size=n_paths)\n",
        "    S_T = process.evolve(option.maturity, std_norms)\n",
        "    V_T = yield_curve.discount(option.maturity) * option.payoff(S_T)\n",
        "    V_0 = np.average(V_T)   \n",
        "\n",
        "    return V_0"
      ],
      "execution_count": 37,
      "outputs": []
    },
    {
      "cell_type": "markdown",
      "metadata": {
        "id": "Qm45KN0bXdRI"
      },
      "source": [
        "Some example inputs:"
      ]
    },
    {
      "cell_type": "code",
      "metadata": {
        "id": "kf4DLlHaXdRJ"
      },
      "source": [
        "T = 5.\n",
        "S_0 = 100.\n",
        "vol = 0.2\n",
        "r = 0.02\n",
        "K = 100\n",
        "K2 = 120\n",
        "N = 10000"
      ],
      "execution_count": 38,
      "outputs": []
    },
    {
      "cell_type": "markdown",
      "metadata": {
        "id": "UEseVqY8XdRJ"
      },
      "source": [
        "Let's instantiate objects from your classes:"
      ]
    },
    {
      "cell_type": "code",
      "metadata": {
        "id": "8vUnGYl3XdRJ"
      },
      "source": [
        "## Uncomment the lines below\n",
        "\n",
        "yield_curve = FixedRateYieldCurve(r)\n",
        "rand_process = BlackScholesProcess(S_0, r, vol)\n",
        "call_payoff = Call(K)\n",
        "call_option = VanillaOption(T, call_payoff)"
      ],
      "execution_count": 39,
      "outputs": []
    },
    {
      "cell_type": "markdown",
      "metadata": {
        "id": "VwSjHRLlXdRJ"
      },
      "source": [
        "and use them:"
      ]
    },
    {
      "cell_type": "code",
      "metadata": {
        "colab": {
          "base_uri": "https://localhost:8080/"
        },
        "id": "3mphYeWRXdRK",
        "outputId": "a5dd2d7b-b4b6-4959-eac9-22e3eca0f8cf"
      },
      "source": [
        "## Uncomment the lines below\n",
        "c = mc_price_european(rand_process, call_option, yield_curve, N)\n",
        "print(c)"
      ],
      "execution_count": 40,
      "outputs": [
        {
          "output_type": "stream",
          "text": [
            "22.630766070162384\n"
          ],
          "name": "stdout"
        }
      ]
    },
    {
      "cell_type": "markdown",
      "metadata": {
        "id": "idaq0XJXXdRK"
      },
      "source": [
        "Now, do the same with a couple more payoff types:"
      ]
    },
    {
      "cell_type": "code",
      "metadata": {
        "id": "oEl5A64BXdRK"
      },
      "source": [
        "class Put:\n",
        "    def __init__(self, strike):\n",
        "        self.strike = strike\n",
        "\n",
        "    def __call__(self, spot):\n",
        "        return np.maximum(self.strike - spot , 0.)\n",
        "    # Implement the payoff class\n",
        "    #pass    "
      ],
      "execution_count": 41,
      "outputs": []
    },
    {
      "cell_type": "code",
      "metadata": {
        "id": "YvCg9vryXdRN"
      },
      "source": [
        "class DoubleDigital:\n",
        "    def __init__(self,K,K2 ):\n",
        "        self.K=K\n",
        "        self.K2 = K2\n",
        "    def __call__(self,spot):\n",
        "        a=np.array(spot)\n",
        "        D=np.empty(a.size)\n",
        "        for i in range(len(spot)):\n",
        "            if self.K< a[i] < self.K2 :\n",
        "                D[i]=1\n",
        "            else:\n",
        "                D[i]=0\n",
        "        return D\n",
        "    # Implement the payoff class\n",
        "    #pass    "
      ],
      "execution_count": 42,
      "outputs": []
    },
    {
      "cell_type": "markdown",
      "metadata": {
        "id": "Yh9L4xnqXdRO"
      },
      "source": [
        "and use them:"
      ]
    },
    {
      "cell_type": "code",
      "metadata": {
        "colab": {
          "base_uri": "https://localhost:8080/"
        },
        "id": "gYMVxSEMXdRP",
        "outputId": "277b54f5-8e15-4a8e-a9a7-8a9b169f3070"
      },
      "source": [
        "# Uncomment the lines below and complete them\n",
        "put_payoff = Put(K)\n",
        "put_option = VanillaOption(T, put_payoff)\n",
        "put_price = mc_price_european(rand_process, put_option, yield_curve, N)\n",
        "print(put_price)\n"
      ],
      "execution_count": 43,
      "outputs": [
        {
          "output_type": "stream",
          "text": [
            "12.41922695880521\n"
          ],
          "name": "stdout"
        }
      ]
    },
    {
      "cell_type": "code",
      "metadata": {
        "colab": {
          "base_uri": "https://localhost:8080/"
        },
        "id": "YJ5ThGvaXdRQ",
        "outputId": "aeff10d3-a766-4090-985f-d43b8d896557"
      },
      "source": [
        "# Uncomment the lines below and complete them\n",
        "dbl_digit_payoff = DoubleDigital(K,K2)\n",
        "double_digital_option = VanillaOption(T, dbl_digit_payoff)\n",
        "dbl_digital_price = mc_price_european(rand_process, double_digital_option, yield_curve, N)\n",
        "print(dbl_digital_price)"
      ],
      "execution_count": 44,
      "outputs": [
        {
          "output_type": "stream",
          "text": [
            "0.14766946662346858\n"
          ],
          "name": "stdout"
        }
      ]
    }
  ]
}