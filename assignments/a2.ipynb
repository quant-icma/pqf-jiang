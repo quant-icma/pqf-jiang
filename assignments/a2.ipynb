{
  "nbformat": 4,
  "nbformat_minor": 0,
  "metadata": {
    "kernelspec": {
      "display_name": "Python 3",
      "name": "python3"
    },
    "language_info": {
      "name": "python"
    },
    "colab": {
      "name": "a2.ipynb",
      "provenance": []
    }
  },
  "cells": [
    {
      "cell_type": "markdown",
      "metadata": {
        "id": "js-gU148n5mG"
      },
      "source": [
        "# Assignment 2\n",
        "\n",
        "Complete the code snippets in a colab notebook. \n",
        "Download the notebook file and submit in Blackboard."
      ]
    },
    {
      "cell_type": "code",
      "metadata": {
        "id": "ZICfqDOxn5mM"
      },
      "source": [
        "import numpy as np"
      ],
      "execution_count": 11,
      "outputs": []
    },
    {
      "cell_type": "code",
      "metadata": {
        "id": "6K80foX-n5mN"
      },
      "source": [
        "class Call:\n",
        "    \n",
        "    def __init__(self, strike):\n",
        "        self.strike = strike\n",
        "\n",
        "    def __call__(self, spot):\n",
        "        return np.maximum(spot - self.strike, 0.)"
      ],
      "execution_count": 12,
      "outputs": []
    },
    {
      "cell_type": "code",
      "metadata": {
        "id": "viR7k4d8n5mO"
      },
      "source": [
        "class VanillaOption:\n",
        "    def __init__(self, maturity, payoff):\n",
        "      self.maturity = maturity\n",
        "      self.payoff = payoff\n",
        "    # Implement a vanilla option class\n",
        "    # The class with have no methods apart from the constructor\n",
        "    # when you are done delete the 'pass' statement\n",
        "    \n",
        "\n",
        "    # The constructor will initialize two attributes:\n",
        "    #  - maturity\n",
        "    #  - payoff object\n",
        "\n",
        "    #pass    "
      ],
      "execution_count": 13,
      "outputs": []
    },
    {
      "cell_type": "code",
      "metadata": {
        "id": "5-WPsOsBn5mO"
      },
      "source": [
        "class BlackScholesProcess:\n",
        "    def __init__(self, spot, rate, vol):\n",
        "      self.spot = spot\n",
        "      self.rate = rate\n",
        "      self.vol = vol\n",
        "\n",
        "    def evolve (self, time, norms):\n",
        "      S_T = self.spot * np.exp( (self.rate-0.5*self.vol**2)*time + self.vol*np.sqrt(time)*norms)\n",
        "      return S_T\n",
        "      \n",
        "       \n",
        "\n",
        "    # Implement the stochastic process class\n",
        "    # The class with have:\n",
        "    #   - a constructor\n",
        "    #   - an evolve method\n",
        "    # when you are done delete the 'pass' statement\n",
        "\n",
        "    # The constructor will initialize 3 attributes:\n",
        "    #    - spot: initial spot price\n",
        "    #    - rate: constant interest rate\n",
        "    #    - vol: constant vol\n",
        "    \n",
        "\n",
        "    # The 'evolve' method will take 2 arguments:\n",
        "    #   - time: the time horizon to simulate the process to\n",
        "    #   - norms: the sampled standard normal variables\n",
        "    # 'evolve' will return the simulate paths of the underlying using \n",
        "    #  the solution of the Black-Scholes stochastic differential equation\n",
        "\n",
        "    #pass\n",
        "        "
      ],
      "execution_count": 14,
      "outputs": []
    },
    {
      "cell_type": "code",
      "metadata": {
        "id": "zeUHwCPRn5mO"
      },
      "source": [
        "class FixedRateYieldCurve:\n",
        "    def __init__ (self, rate):\n",
        "      self.rate = rate \n",
        "\n",
        "    def discount (self, maturity):\n",
        "        return np.exp(-self.rate*maturity)\n",
        "    # Implement the stochastic process class\n",
        "    # The class with have:\n",
        "    #   - a constructor\n",
        "    #   - a discount method\n",
        "    # when you are done delete the 'pass' statement\n",
        "\n",
        "    # The constructor will initialize 1 attribute:\n",
        "    #    - rate: constant interest rate\n",
        "      \n",
        "\n",
        "    # The 'discount' method will take 1 argument:\n",
        "    #   - maturity: the maturity it will compute the discount factor for\n",
        "    # 'discount' will return the discount factor\n",
        "\n",
        "    #pass"
      ],
      "execution_count": 15,
      "outputs": []
    },
    {
      "cell_type": "markdown",
      "metadata": {
        "id": "9Qex6JIyn5mP"
      },
      "source": [
        "Here is a function that can use your classes:"
      ]
    },
    {
      "cell_type": "code",
      "metadata": {
        "id": "EJ4NggpUn5mP"
      },
      "source": [
        "def mc_price_european(process, option, yield_curve, n_paths):\n",
        "    std_norms = np.random.normal(size=n_paths)\n",
        "    S_T = process.evolve(option.maturity, std_norms)\n",
        "    V_T = yield_curve.discount(option.maturity) * option.payoff(S_T)\n",
        "    V_0 = np.average(V_T)   \n",
        "\n",
        "    return V_0"
      ],
      "execution_count": 16,
      "outputs": []
    },
    {
      "cell_type": "markdown",
      "metadata": {
        "id": "xsHUoq4Kn5mP"
      },
      "source": [
        "Some example inputs:"
      ]
    },
    {
      "cell_type": "code",
      "metadata": {
        "id": "4jkBuPaNn5mQ"
      },
      "source": [
        "T = 5.\n",
        "S_0 = 100.\n",
        "vol = 0.2\n",
        "r = 0.02\n",
        "K = 100\n",
        "K2 = 120\n",
        "N = 10000"
      ],
      "execution_count": 17,
      "outputs": []
    },
    {
      "cell_type": "markdown",
      "metadata": {
        "id": "dRF83DJ2n5mQ"
      },
      "source": [
        "Let's instantiate objects from your classes:"
      ]
    },
    {
      "cell_type": "code",
      "metadata": {
        "id": "K3HDsQ0gn5mQ"
      },
      "source": [
        "## Uncomment the lines below\n",
        "\n",
        "yield_curve = FixedRateYieldCurve(r)\n",
        "rand_process = BlackScholesProcess(S_0, r, vol)\n",
        "call_payoff = Call(K)\n",
        "call_option = VanillaOption(T, call_payoff)"
      ],
      "execution_count": 18,
      "outputs": []
    },
    {
      "cell_type": "markdown",
      "metadata": {
        "id": "28OLoCTYn5mR"
      },
      "source": [
        "and use them:"
      ]
    },
    {
      "cell_type": "code",
      "metadata": {
        "id": "IUTg8gbFn5mR",
        "outputId": "6836bc43-8868-44ef-86e6-2a540cdc2e8a",
        "colab": {
          "base_uri": "https://localhost:8080/"
        }
      },
      "source": [
        "## Uncomment the lines below\n",
        "\n",
        "c = mc_price_european(rand_process, call_option, yield_curve, N)\n",
        "print(c)"
      ],
      "execution_count": 19,
      "outputs": [
        {
          "output_type": "stream",
          "text": [
            "21.16460249048797\n"
          ],
          "name": "stdout"
        }
      ]
    },
    {
      "cell_type": "markdown",
      "metadata": {
        "id": "mPOHKF8In5mR"
      },
      "source": [
        "Now, do the same with a couple more payoff types:"
      ]
    },
    {
      "cell_type": "code",
      "metadata": {
        "id": "R-xqkxqKn5mR"
      },
      "source": [
        "class Put:\n",
        "    # Implement the payoff class\n",
        "    pass    "
      ],
      "execution_count": null,
      "outputs": []
    },
    {
      "cell_type": "code",
      "metadata": {
        "id": "01r9jSzXn5mS"
      },
      "source": [
        "class DoubleDigital:\n",
        "    # Implement the payoff class\n",
        "    pass    "
      ],
      "execution_count": null,
      "outputs": []
    },
    {
      "cell_type": "markdown",
      "metadata": {
        "id": "XX3mpRBZn5mS"
      },
      "source": [
        "and use them:"
      ]
    },
    {
      "cell_type": "code",
      "metadata": {
        "id": "oDmlFRBcn5mT"
      },
      "source": [
        "# Uncomment the lines below and complete them\n",
        "\n",
        "# put_payoff = ...\n",
        "# put_option = ...\n",
        "# put_price = mc_price_european(...)\n",
        "# print(put_price)"
      ],
      "execution_count": null,
      "outputs": []
    },
    {
      "cell_type": "code",
      "metadata": {
        "id": "2KM_MaDbn5mT"
      },
      "source": [
        "# Uncomment the lines below and complete them\n",
        "\n",
        "# dbl_digit_payoff = ...\n",
        "# double_digital_option = ...\n",
        "# dbl_digital_price = mc_price_european(...)\n",
        "# print(dbl_digital_price)"
      ],
      "execution_count": null,
      "outputs": []
    }
  ]
}